{
 "cells": [
  {
   "cell_type": "markdown",
   "id": "6b74c198",
   "metadata": {},
   "source": [
    "\n"
   ]
  },
  {
   "cell_type": "markdown",
   "id": "517ffb8d",
   "metadata": {},
   "source": [
    "17/Jan/2024\n",
    "\n",
    "# Ground Point Filtering\n",
    "\n",
    "### Check how many points in the laz file \n",
    "### Check how many ground points base on AHN classification\n",
    "### Get the lowest points\n",
    "### Form the original TIN by lowest points and find other ground points\n",
    "### Build the TIN and use it\n",
    "### Save data to csv and laz files\n",
    "### Review Threshold settings\n",
    "### Threshold Finding Method\n",
    "### Conclusion"
   ]
  },
  {
   "cell_type": "code",
   "execution_count": null,
   "id": "07bc5eb9",
   "metadata": {},
   "outputs": [],
   "source": []
  },
  {
   "cell_type": "markdown",
   "id": "124bbf5a",
   "metadata": {},
   "source": [
    "## Check how many points in the laz file \n",
    "\n",
    "Laz file is 600×600m, thinned + removing outlier one "
   ]
  },
  {
   "cell_type": "code",
   "execution_count": 1,
   "id": "8d3a0f4f",
   "metadata": {},
   "outputs": [
    {
     "name": "stdout",
     "output_type": "stream",
     "text": [
      "The .laz file has 1823402 points.\n"
     ]
    }
   ],
   "source": [
    "import laspy\n",
    "import numpy as np\n",
    "\n",
    "def count_points_in_laz(file_path):\n",
    "    las_file = laspy.open(file_path, mode='r')\n",
    "    num_points = las_file.header.point_records_count\n",
    "    las_file.close()\n",
    "    print(f\"The .laz file has {num_points} points.\")\n",
    "\n",
    "laz_file_path = \"600_thinned_025_filtered.laz\"\n",
    "count_points_in_laz(laz_file_path)\n"
   ]
  },
  {
   "cell_type": "markdown",
   "id": "fae69cba",
   "metadata": {},
   "source": [
    "## Check how many ground points base on AHN classification\n",
    "\n",
    "Just to remember the number"
   ]
  },
  {
   "cell_type": "code",
   "execution_count": 2,
   "id": "98f06612",
   "metadata": {},
   "outputs": [
    {
     "name": "stdout",
     "output_type": "stream",
     "text": [
      "Ground points count: 1516921\n"
     ]
    }
   ],
   "source": [
    "import laspy\n",
    "\n",
    "def count_ground_points(file_path):\n",
    "\n",
    "    with laspy.open(file_path) as f:\n",
    "        \n",
    "        laz_data = f.read()\n",
    "        ground_points = laz_data.points[laz_data.classification == 2]\n",
    "        \n",
    "        return len(ground_points)\n",
    "\n",
    "file_path = \"600_thinned_025_filtered.laz\"\n",
    "num_ground_points = count_ground_points(file_path)\n",
    "print(f\"Ground points count: {num_ground_points}\")"
   ]
  },
  {
   "cell_type": "markdown",
   "id": "482bc74d",
   "metadata": {},
   "source": [
    "## Get the lowest points"
   ]
  },
  {
   "cell_type": "code",
   "execution_count": 3,
   "id": "94e40689",
   "metadata": {},
   "outputs": [
    {
     "name": "stdout",
     "output_type": "stream",
     "text": [
      "min_x, min_y:  188415.0 311750.0\n",
      "max_x, max_y:  189015.0 312350.0\n",
      "225\n"
     ]
    }
   ],
   "source": [
    "import numpy as np\n",
    "import laspy\n",
    "\n",
    "def read_laz_file(file_path):\n",
    "    las = laspy.read(file_path)\n",
    "    points = np.vstack((las.x, las.y, las.z)).transpose()\n",
    "    return points\n",
    "\n",
    "def create_grid_and_find_lowest_points(points, grid_size):\n",
    "    \n",
    "    # These two lines calculate the minimum and maximum x and y coordinates among all points. \n",
    "    # This is used to determine the extent of the grid.\n",
    "    min_x, min_y, _ = np.min(points, axis=0)\n",
    "    max_x, max_y, _ = np.max(points, axis=0)\n",
    "    print(\"min_x, min_y: \", min_x, min_y)\n",
    "    print(\"max_x, max_y: \", max_x, max_y)\n",
    "    \n",
    "    # Create grid\n",
    "    # These two lines create a sequence of x and y coordinates that represent the positions of the grid lines, \n",
    "    # plus grid_size for later use. grid_size is the size of the grid cells.\n",
    "    x_coords = np.arange(min_x, max_x, grid_size)\n",
    "    y_coords = np.arange(min_y, max_y, grid_size)\n",
    "\n",
    "    lowest_points = []\n",
    "    for x in x_coords:\n",
    "        for y in y_coords:\n",
    "            # Find the point in the grid\n",
    "            in_grid = (points[:, 0] >= x) & (points[:, 0] < x + grid_size) & \\\n",
    "                      (points[:, 1] >= y) & (points[:, 1] < y + grid_size)\n",
    "            grid_points = points[in_grid]\n",
    "\n",
    "            if len(grid_points) > 0:\n",
    "                # Select the point with the smallest z value\n",
    "                lowest_point = grid_points[np.argmin(grid_points[:, 2])]\n",
    "                lowest_points.append(lowest_point)\n",
    "            else:\n",
    "                # Print the position of the grid without data\n",
    "                print(f\"No data in grid at position: x={x}, y={y}\")\n",
    "\n",
    "    return np.array(lowest_points)\n",
    "\n",
    "grid_size = 40  # Maximum building 33x33m\n",
    "input_laz_path = \"600_thinned_025_filtered.laz\"\n",
    "points=read_laz_file(input_laz_path)\n",
    "lowest_points = create_grid_and_find_lowest_points(points, grid_size)\n",
    "\n",
    "print(len(lowest_points)) #If =225, there is no cell with no data\n"
   ]
  },
  {
   "cell_type": "markdown",
   "id": "897a749a",
   "metadata": {},
   "source": [
    "## Form the original TIN by lowest points and find other ground points\n",
    "\n",
    "This code includes constructing a TIN, using multiple points to generate a TIN, and inserting points one by one. There are comments below.\n",
    "The output is an array named results, which has a structure such as\n",
    "\n",
    "\n",
    "[(array([1.88684583e+05, 3.12241676e+05, 1.18058000e+02]),\n",
    "   3.200938809162494,\n",
    "   18.425626067846835,\n",
    "   False),\n",
    "  (array([1.88728947e+05, 3.12121377e+05, 1.12656000e+02]),\n",
    "   0.1345523416530341,\n",
    "   0.620972773517833,\n",
    "   True),.....\n",
    "   \n",
    "The 0th is the coordinate, the 1st is the distance, the 2nd is alpha, and the Boolean value is whether is inserted or not.\n",
    "   "
   ]
  },
  {
   "cell_type": "code",
   "execution_count": 5,
   "id": "6d7b55d8",
   "metadata": {},
   "outputs": [],
   "source": [
    "import matplotlib.pyplot as plt\n",
    "import startinpy\n",
    "from tqdm import tqdm\n",
    "\n",
    "class Tin:\n",
    "    def __init__(self):\n",
    "        self.dt = startinpy.DT()\n",
    "        \n",
    "    def insert_lowest_pts(self,arr): # insert a lot of point at the same time and create TIN\n",
    "        return self.dt.insert(arr)\n",
    "\n",
    "    def number_of_vertices(self):\n",
    "        return self.dt.number_of_vertices()\n",
    "\n",
    "    def number_of_triangles(self):\n",
    "        return self.dt.number_of_triangles()\n",
    "\n",
    "    def insert_ground_pt(self, point): # insert a point\n",
    "        x=point[0]\n",
    "        y=point[1]\n",
    "        z=point[2]\n",
    "        return self.dt.insert_one_pt(x, y, z)\n",
    "    \n",
    "    def insert_one_pt(self, x, y, z):\n",
    "        self.dt.insert_one_pt(x, y, z)\n",
    "\n",
    "\n",
    "    def info(self):\n",
    "        print(self.dt.points)\n",
    "\n",
    "    def get_delaunay_vertices(self):\n",
    "        return self.dt.points\n",
    "    \n",
    "    def get_triangles(self):\n",
    "        return self.dt.triangles\n",
    "    \n",
    "    \n",
    "    def get_location(self,point): # get the point is located in which triangle \n",
    "        x=point[0]\n",
    "        y=point[1]\n",
    "        return self.dt.locate(x,y)\n",
    "    \n",
    "    \n",
    "        \"\"\"    \n",
    "    def get_all_triangle_index(self):\n",
    "        pts = self.dt.points\n",
    "        edges = []\n",
    "        for tr in self.dt.triangles:\n",
    "            \n",
    "            a = tr            \n",
    "            edges.append(a)\n",
    "\n",
    "        return edges\n",
    "        \n",
    "        \"\"\"\n",
    "\n",
    "    def get_p123(self,arr): # get the coordinate from the index\n",
    "        pts=self.dt.points\n",
    "        p123=[]\n",
    "        \n",
    "\n",
    "        a=pts[arr[0]]\n",
    "        b=pts[arr[1]]\n",
    "        c=pts[arr[2]]\n",
    "\n",
    "        p123.append(a)\n",
    "        p123.append(b)\n",
    "        p123.append(c)\n",
    "            \n",
    "        return p123\n",
    "    \n",
    "    def is_inside_tin(self,point): \n",
    "        # check the point is inside the tin or not \n",
    "        # convex hull is formed by the lowest points\n",
    "        \n",
    "        x=point[0]\n",
    "        y=point[1]\n",
    "        \n",
    "        return self.dt.is_inside_convex_hull(x,y)\n",
    "\n",
    "    def find_distance_and_add_points(self, points): # main function \n",
    "        results = []\n",
    "\n",
    "        for point in tqdm(points, desc=\"Processing points\"):\n",
    "            \n",
    "            inside_index = self.is_inside_tin(point)\n",
    "    \n",
    "            if not inside_index:\n",
    "                results.append((point, None, None, False))  # not inside TIN\n",
    "                continue\n",
    "\n",
    "            arr = self.get_location(point)\n",
    "            p123 = self.get_p123(arr)\n",
    "            p1, p2, p3 = p123[0], p123[1], p123[2]\n",
    "            \n",
    "            # Calculate distance\n",
    "            normal_vector = np.cross(p2 - p1, p3 - p1)\n",
    "            normal_vector /= np.linalg.norm(normal_vector)\n",
    "            a, b, c = normal_vector\n",
    "            d = -np.dot(normal_vector, p1)\n",
    "            distance = abs(a * point[0] + b * point[1] + c * point[2] + d) / np.linalg.norm(normal_vector)\n",
    "\n",
    "            # Calculate alpha\n",
    "            vectors = [point - p1, point - p2, point - p3]\n",
    "            max_angle = 0\n",
    "\n",
    "            for v in vectors:\n",
    "                norm_v = np.linalg.norm(v)\n",
    "                if norm_v == 0:\n",
    "                    # print(\"the same point\")\n",
    "                    continue\n",
    "\n",
    "                v /= norm_v\n",
    "                cos_angle = np.dot(v, normal_vector)\n",
    "                angle = np.arccos(np.clip(cos_angle, -1.0, 1.0))\n",
    "                complement_angle = np.pi / 2 - angle\n",
    "                max_angle = max(max_angle, complement_angle)\n",
    "\n",
    "            alpha = np.degrees(max_angle)\n",
    "\n",
    "            # Determine whether to add points\n",
    "            if distance < 0.15651385846605634 and alpha < 1.4878249952648377:  \n",
    "                # this is the threshold from 0.1 thining\n",
    "                # will be change in the following\n",
    "                self.insert_ground_pt(point)\n",
    "                results.append((point, distance, alpha, True))\n",
    "            else:\n",
    "                results.append((point, distance, alpha, False))\n",
    "\n",
    "        return results"
   ]
  },
  {
   "cell_type": "markdown",
   "id": "b143b7ad",
   "metadata": {},
   "source": [
    "## Build the TIN and use it"
   ]
  },
  {
   "cell_type": "code",
   "execution_count": 6,
   "id": "9c117718",
   "metadata": {},
   "outputs": [
    {
     "name": "stdout",
     "output_type": "stream",
     "text": [
      "225\n",
      "433\n"
     ]
    }
   ],
   "source": [
    "initial_points=lowest_points\n",
    "\n",
    "tin = Tin()\n",
    "tin.insert_lowest_pts(initial_points)\n",
    "print(tin.number_of_vertices())\n",
    "print(tin.number_of_triangles())"
   ]
  },
  {
   "cell_type": "code",
   "execution_count": 7,
   "id": "f72da3b3",
   "metadata": {},
   "outputs": [
    {
     "name": "stderr",
     "output_type": "stream",
     "text": [
      "Processing points: 100%|███████████████████████████████████████████████████| 1823402/1823402 [7:27:19<00:00, 67.94it/s]\n"
     ]
    }
   ],
   "source": [
    "query_points = points\n",
    "results = tin.find_distance_and_add_points(query_points)"
   ]
  },
  {
   "cell_type": "code",
   "execution_count": null,
   "id": "76df08db",
   "metadata": {},
   "outputs": [],
   "source": []
  },
  {
   "cell_type": "markdown",
   "id": "02e6a940",
   "metadata": {},
   "source": [
    "## Save data to csv and laz files\n",
    "The csv file is not very important, just for storage and just in case.\n",
    "\n",
    "Because array is used to write data directly into the laz file here, there are only coordinates, no colors and other properties, but it can be viewed in Cloud Compare.\n"
   ]
  },
  {
   "cell_type": "code",
   "execution_count": 16,
   "id": "47742985",
   "metadata": {},
   "outputs": [],
   "source": [
    "import csv\n",
    "\n",
    "data = results\n",
    "\n",
    "processed_data = []\n",
    "for item in data:\n",
    "    row = list(item[0]) + list(item[1:])\n",
    "    processed_data.append(row)\n",
    "\n",
    "with open('600_GP_output.csv', 'w', newline='') as file:\n",
    "    writer = csv.writer(file)\n",
    "    writer.writerow(['x', 'y', 'z', 'distance', 'alpha', 'bool'])  # 寫入列名\n",
    "    writer.writerows(processed_data)  "
   ]
  },
  {
   "cell_type": "code",
   "execution_count": 9,
   "id": "19e66e40",
   "metadata": {},
   "outputs": [],
   "source": [
    "import numpy as np\n",
    "import laspy\n",
    "\n",
    "data = results\n",
    "\n",
    "filtered_points = [item[0] for item in data if item[-1]]\n",
    "\n",
    "header = laspy.LasHeader(version=\"1.2\", point_format=1)\n",
    "outfile = laspy.LasData(header)\n",
    "\n",
    "if filtered_points:\n",
    "    all_points = np.array(filtered_points)\n",
    "    outfile.x = all_points[:, 0]\n",
    "    outfile.y = all_points[:, 1]\n",
    "    outfile.z = all_points[:, 2]\n",
    "\n",
    "    outfile.write(\"600_GP_output.laz\")\n",
    "else:\n",
    "    print(\"No points with the last attribute as True.\")"
   ]
  },
  {
   "cell_type": "code",
   "execution_count": null,
   "id": "ee47a6fc",
   "metadata": {},
   "outputs": [],
   "source": []
  },
  {
   "cell_type": "markdown",
   "id": "d8ecb894",
   "metadata": {},
   "source": [
    "## Review Threshold settings\n",
    "\n",
    "Since Threshold is initially set using the 0.1 thinning result, the method is described in the \"Threshold finding method\" further down in this Notebook.\n",
    "\n",
    "Our result has a total of 486985 ground points, but the AHN is Ground points count: 1516921. \n",
    "\n",
    "Did we set the threshold too small?\n"
   ]
  },
  {
   "cell_type": "code",
   "execution_count": 31,
   "id": "8ba09116",
   "metadata": {},
   "outputs": [
    {
     "name": "stdout",
     "output_type": "stream",
     "text": [
      "1823402\n",
      "486985\n"
     ]
    },
    {
     "data": {
      "text/plain": [
       "[(array([1.88684583e+05, 3.12241676e+05, 1.18058000e+02]),\n",
       "  3.200938809162494,\n",
       "  18.425626067846835,\n",
       "  False),\n",
       " (array([1.88728947e+05, 3.12121377e+05, 1.12656000e+02]),\n",
       "  0.1345523416530341,\n",
       "  0.620972773517833,\n",
       "  True),\n",
       " (array([1.88588742e+05, 3.12322708e+05, 1.20470000e+02]),\n",
       "  0.40972515642988583,\n",
       "  1.206461798663796,\n",
       "  False),\n",
       " (array([1.88504332e+05, 3.11751914e+05, 1.16492000e+02]), None, None, False),\n",
       " (array([1.88554443e+05, 3.12088743e+05, 1.17933000e+02]),\n",
       "  0.10225622882930452,\n",
       "  0.21548413002898062,\n",
       "  True)]"
      ]
     },
     "execution_count": 31,
     "metadata": {},
     "output_type": "execute_result"
    }
   ],
   "source": [
    "print(len(results)) # all points\n",
    "print(len(filtered_points)) # ground points\n",
    "results[:5]"
   ]
  },
  {
   "cell_type": "markdown",
   "id": "956cc96b",
   "metadata": {},
   "source": [
    "## Threshold Finding Method\n",
    "\n",
    "Previously, we used the data results of 0.1 thinning. Here we use the results we just used(0.25 thining) for review."
   ]
  },
  {
   "cell_type": "code",
   "execution_count": 15,
   "id": "de477527",
   "metadata": {},
   "outputs": [
    {
     "data": {
      "image/png": "[encoded data removed]",
      "text/plain": [
       "<Figure size 1200x600 with 2 Axes>"
      ]
     },
     "metadata": {},
     "output_type": "display_data"
    }
   ],
   "source": [
    "import matplotlib.pyplot as plt\n",
    "\n",
    "\n",
    "data_1 = [item[1] for item in results if item[1] is not None]\n",
    "data_2 = [item[2] for item in results if item[2] is not None]\n",
    "\n",
    "\n",
    "plt.figure(figsize=(12, 6))\n",
    "\n",
    "plt.subplot(1, 2, 1)\n",
    "plt.hist(data_1, bins=50,color='blue', alpha=0.7)\n",
    "plt.title('Distribution of distance')\n",
    "plt.xlabel('Value')\n",
    "plt.ylabel('Frequency')\n",
    "\n",
    "\n",
    "plt.subplot(1, 2, 2)\n",
    "plt.hist(data_2, bins=50, color='green', alpha=0.7)\n",
    "plt.title('Distribution of alpha')\n",
    "plt.xlabel('Value')\n",
    "plt.ylabel('Frequency')\n",
    "\n",
    "plt.tight_layout()\n",
    "plt.show()"
   ]
  },
  {
   "cell_type": "markdown",
   "id": "eab5fde5",
   "metadata": {},
   "source": [
    "We can find that distance has a sharp drop from 0 to 3, and alpha also has a sharp drop from 0 to 5. Let's take a closer look at them."
   ]
  },
  {
   "cell_type": "code",
   "execution_count": 32,
   "id": "08a2f4a9",
   "metadata": {},
   "outputs": [
    {
     "data": {
      "image/png": "[encoded data removed]",
      "text/plain": [
       "<Figure size 1200x600 with 2 Axes>"
      ]
     },
     "metadata": {},
     "output_type": "display_data"
    }
   ],
   "source": [
    "import matplotlib.pyplot as plt\n",
    "\n",
    "\n",
    "\n",
    "\n",
    "data_1 = [item[1] for item in results if item[1] is not None]\n",
    "data_2 = [item[2] for item in results if item[2] is not None]\n",
    "\n",
    "\n",
    "plt.figure(figsize=(12, 6))\n",
    "\n",
    "plt.subplot(1, 2, 1)\n",
    "plt.hist(data_1, bins=50,range=(0,3),color='blue', alpha=0.7) # set the range!!!\n",
    "plt.title('Distribution of distance')\n",
    "plt.xlabel('Value')\n",
    "plt.ylabel('Frequency')\n",
    "\n",
    "\n",
    "plt.subplot(1, 2, 2)\n",
    "plt.hist(data_2, bins=50, range=(0,5),color='green', alpha=0.7) # set the range!!!\n",
    "plt.title('Distribution of alpha')\n",
    "plt.xlabel('Value')\n",
    "plt.ylabel('Frequency')\n",
    "\n",
    "\n",
    "plt.tight_layout()\n",
    "plt.show()"
   ]
  },
  {
   "cell_type": "markdown",
   "id": "753c2156",
   "metadata": {},
   "source": [
    "We sort the points from small to large. The None value is infinite.\n",
    "\n",
    "*Sorry, the local record data (results) are lost, so I grabbed it from the csv file."
   ]
  },
  {
   "cell_type": "code",
   "execution_count": 9,
   "id": "87df16f0",
   "metadata": {},
   "outputs": [
    {
     "name": "stdout",
     "output_type": "stream",
     "text": [
      "(9.722143221605222, 76.05652640068469)\n"
     ]
    }
   ],
   "source": [
    "import pandas as pd\n",
    "\n",
    "def find_nth_smallest_value(file_path, n):\n",
    "\n",
    "    df = pd.read_csv(file_path)\n",
    "\n",
    "\n",
    "    df['distance'] = df['distance'].fillna(float('inf'))\n",
    "    df['alpha'] = df['alpha'].fillna(float('inf'))\n",
    "\n",
    "\n",
    "    df_sorted_by_col5 = df.sort_values(by='distance')\n",
    "    df_sorted_by_col6 = df.sort_values(by='alpha')\n",
    "\n",
    "\n",
    "    if n > len(df):\n",
    "        return \"too big\"\n",
    "\n",
    "\n",
    "    nth_smallest_col5 = df_sorted_by_col5.iloc[n-1]['distance']\n",
    "    nth_smallest_col6 = df_sorted_by_col6.iloc[n-1]['alpha']\n",
    "\n",
    "    return nth_smallest_col5, nth_smallest_col6\n",
    "\n",
    "\n",
    "file_path_csv = '600_GP_output.csv' \n",
    "n = 1516921\n",
    "print(find_nth_smallest_value(file_path_csv, n))"
   ]
  },
  {
   "cell_type": "code",
   "execution_count": 12,
   "id": "2f593743",
   "metadata": {},
   "outputs": [
    {
     "name": "stdout",
     "output_type": "stream",
     "text": [
      "(0.1440245085104834, 3.5372362416385155)\n"
     ]
    }
   ],
   "source": [
    "n = 800000\n",
    "print(find_nth_smallest_value(file_path_csv, n))"
   ]
  },
  {
   "cell_type": "markdown",
   "id": "9b599b89",
   "metadata": {},
   "source": [
    "We can see that if we use the number of AHN class 2 points, the distance and alpha will be too large. \n",
    "The ground should be less likely to suddenly rise by 9 meters.\n",
    "\n",
    "If try cutting 1.5 million in half. With n=800,000 points, the data is similar to the threshold we set, except that we use \"and\" instead of just independent sorting as in the sorting method, so the actual point set generated It will definitely be smaller.\n",
    "\n",
    "Judging from the chart, the threshold we set is quite feasible."
   ]
  },
  {
   "cell_type": "markdown",
   "id": "10603676",
   "metadata": {},
   "source": [
    "## Conclusion\n",
    "\n",
    "The alpha value and distance value will be recorded in our code. Our threshold setting here is the result of using 0.1 thining. After re-verification, it was found that the threshold can be adjusted higher, but it is still within a reasonable range.\n",
    "\n",
    "If we look at it in terms of AHN points, the threshold would be very unreasonable and would not be a ground point at all.\n",
    "\n",
    "Since we have recorded the distance value and alpha value, if we adjust the array slightly, we can add points, such as filtering the distance value and alpha value of each data, making the threshold larger, so that more points become real. But it should be noted that this algorithm is a **greedy algorithm**, which means that the order of insertion of points will affect the final result. Subsequent adjustments to the array do not change the TIN. So it's not the most ideal method.\n",
    "\n",
    "Therefore, if we want to reset the threshold, ideally we should rerun it.\n"
   ]
  },
  {
   "cell_type": "code",
   "execution_count": null,
   "id": "4b94c84e",
   "metadata": {},
   "outputs": [],
   "source": []
  }
 ],
 "metadata": {
  "kernelspec": {
   "display_name": "Python 3 (ipykernel)",
   "language": "python",
   "name": "python3"
  },
  "language_info": {
   "codemirror_mode": {
    "name": "ipython",
    "version": 3
   },
   "file_extension": ".py",
   "mimetype": "text/x-python",
   "name": "python",
   "nbconvert_exporter": "python",
   "pygments_lexer": "ipython3",
   "version": "3.11.5"
  }
 },
 "nbformat": 4,
 "nbformat_minor": 5
}
