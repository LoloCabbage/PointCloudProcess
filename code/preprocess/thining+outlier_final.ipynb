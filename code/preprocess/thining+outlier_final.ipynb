{
 "cells": [
  {
   "cell_type": "markdown",
   "id": "a21ec6f8",
   "metadata": {},
   "source": [
    "02/Jan/2024\n",
    "\n",
    "# thining + outlier removing\n",
    "\n",
    "## Thinning \n",
    "\n",
    "I use laspy.\n",
    "Use the first method in the book, randomly. Homework requirement 0.25. Setting 0.25 means retaining 25% of the points.\n",
    "\n",
    "## Outlier removing\n",
    "\n",
    "Outlier I use scipy.\n",
    "\n",
    "Originally I used sklearn, but the teaching assistant said it was not suitable (there are public questions on discord)\n",
    "\n",
    "1. Use the fourth method in the book - knn distance.\n",
    "2. Set the parameter to 3 and use the median. \n",
    "3. Corrected the problem why the cloudcompare is so strange when checking with Xiao Luo at 14:00 02/Jan/2024...because when I process it, I convert it to np.array and write it back to the laz file, which will lose some information. Such as color, Deviation Reflectance Amplitude PointSourceld UserData ScanAngleRank EdgeOf FlightLine ScanDirecitonFlag NumberOfReturns GpsTime Classification and so on. The program code has been modified to retain the message. I threw it into Cloud Compare myself and there should be no problem.\n",
    "\n",
    "## Input data\n",
    "\n",
    "1. tile_4_600.laz :  600x600m (the one with buffer) need thining+outlier removing\n",
    "2. tile_4_500.laz :  500x500m just need to remove the outlier, because step4 don't need to thining at the begining.\n"
   ]
  },
  {
   "cell_type": "code",
   "execution_count": null,
   "id": "1baeb998",
   "metadata": {},
   "outputs": [],
   "source": []
  },
  {
   "cell_type": "markdown",
   "id": "ba7891fe",
   "metadata": {},
   "source": [
    "# Thining\n"
   ]
  },
  {
   "cell_type": "code",
   "execution_count": 26,
   "id": "8cc96e15",
   "metadata": {},
   "outputs": [
    {
     "name": "stdout",
     "output_type": "stream",
     "text": [
      "Thinning complete. Saved to 600_thinned_025.laz\n"
     ]
    }
   ],
   "source": [
    "# Thining\n",
    "\n",
    "import laspy\n",
    "import numpy as np\n",
    "\n",
    "def thin_laz_file(input_file, output_file, keep_fraction=0.25): # NOTICE HERE!! 0.25 assingment required \n",
    "    # read LAZ file\n",
    "    with laspy.open(input_file) as file:\n",
    "        las = file.read()\n",
    "\n",
    "    # get how many numbers\n",
    "    total_points = las.header.point_count\n",
    "\n",
    "    # Randomly select points to keep \n",
    "    # 11.1 thinning method 1 random\n",
    "    chosen_indices = np.random.choice(total_points, int(total_points * keep_fraction), replace=False)\n",
    "\n",
    "    # keep the points\n",
    "    thinned_las = las[chosen_indices]\n",
    "\n",
    "    # write into new file\n",
    "    with laspy.open(output_file, mode=\"w\", header=las.header) as outfile:\n",
    "        outfile.write_points(thinned_las.points)\n",
    "\n",
    "    print(f\"Thinning complete. Saved to {output_file}\")\n",
    "\n",
    "# how to use the function\n",
    "input_laz_path = \"tile_4_600.laz\"  # the file's path, this is the one which is cropped\n",
    "output_laz_path = \"600_thinned_025.laz\"  # name of the output file\n",
    "\n",
    "thin_laz_file(input_laz_path, output_laz_path)"
   ]
  },
  {
   "cell_type": "code",
   "execution_count": 27,
   "id": "5313b809",
   "metadata": {},
   "outputs": [
    {
     "name": "stdout",
     "output_type": "stream",
     "text": [
      "(188415.0, 189015.0, 311750.0, 312350.0)\n",
      "(188415.0, 189015.0, 311750.0, 312350.0)\n"
     ]
    }
   ],
   "source": [
    "# check the size\n",
    "def read_las(file_path):\n",
    "    \"\"\"\n",
    "    read files\n",
    "    \"\"\"\n",
    "    return laspy.read(file_path)\n",
    "\n",
    "def get_bounds(las):\n",
    "    \"\"\"\n",
    "    get bounds\n",
    "    \"\"\"\n",
    "    min_x, max_x = las.header.x_min, las.header.x_max\n",
    "    min_y, max_y = las.header.y_min, las.header.y_max\n",
    "    return min_x, max_x, min_y, max_y\n",
    "\n",
    "file_path = \"600_thinned_025.laz\"\n",
    "print(get_bounds(read_las(\"tile_4_600.laz\")))\n",
    "print(get_bounds(read_las(\"600_thinned_025.laz\")))"
   ]
  },
  {
   "cell_type": "markdown",
   "id": "cf556759",
   "metadata": {},
   "source": [
    "# Outliers removing"
   ]
  },
  {
   "cell_type": "code",
   "execution_count": 28,
   "id": "5836da59",
   "metadata": {},
   "outputs": [
    {
     "name": "stdout",
     "output_type": "stream",
     "text": [
      "Filtered LAS file saved as: tile_4_500_filtered.laz\n",
      "Filtered LAS file saved as: 600_thinned_025_filtered.laz\n"
     ]
    }
   ],
   "source": [
    "# Outliers removing\n",
    "\n",
    "import laspy\n",
    "import numpy as np\n",
    "from scipy.spatial import KDTree\n",
    "\n",
    "def remove_outliers_laz(file_path, k=3):\n",
    "    # read laz \n",
    "    las = laspy.read(file_path)\n",
    "\n",
    "    points = np.vstack((las.x, las.y, las.z)).transpose()\n",
    "\n",
    "    # create KDTree\n",
    "    tree = KDTree(points)\n",
    "\n",
    "    # Calculate the k nearest neighbor distances for each point\n",
    "    distances, _ = tree.query(points, k=k+1)  # k+1 Because the nearest point is itself\n",
    "    median_distances = np.median(distances[:, 1:], axis=1)  # Calculate median distance\n",
    "\n",
    "    # Determine threshold for outliers\n",
    "    threshold = np.mean(median_distances) + 2 * np.std(median_distances)  \n",
    " \n",
    "    # Filter out outliers. Values greater than the threshold will be deleted.\n",
    "    mask = median_distances < threshold\n",
    "\n",
    "    # Create filtered LAS file to save \n",
    "    filtered_las = laspy.create(point_format=las.header.point_format, file_version=las.header.version)\n",
    "    \n",
    "    \"\"\"TThe following is to retain the attributes of laz data\"\"\"\n",
    "\n",
    "    # Copy all the attributes in the original las, just the long list above\n",
    "    for name in las.point_format.dimension_names:\n",
    "        if name in las.point_format.dimension_names:\n",
    "            data = getattr(las, name)\n",
    "            setattr(filtered_las, name, data[mask])\n",
    "\n",
    "    # Preserve scale factors and offsets\n",
    "    # If you don’t do this step, its xyz will run away.\n",
    "    filtered_las.header.scale = las.header.scale\n",
    "    filtered_las.header.offset = las.header.offset\n",
    "\n",
    "    # Save the processed file\n",
    "    output_path = file_path.replace('.laz', '_filtered.laz')\n",
    "    filtered_las.write(output_path)\n",
    "    print(f\"Filtered LAS file saved as: {output_path}\")\n",
    "\n",
    "# how to use\n",
    "remove_outliers_laz(\"tile_4_500.laz\", k=3) # This is for step 4\n",
    "remove_outliers_laz(\"600_thinned_025.laz\", k=3) # This is the one after thining and will be use in step 3"
   ]
  },
  {
   "cell_type": "markdown",
   "id": "cbeac8cf",
   "metadata": {},
   "source": [
    "# Be careful of thining\n",
    "\n",
    "Sometimes thining will delete boundary points. We have to make sure that the coordinates of the lower left and upper right points maintain our size. So if this situation occurs, use the following code to do thining"
   ]
  },
  {
   "cell_type": "code",
   "execution_count": 29,
   "id": "634e2b37",
   "metadata": {},
   "outputs": [],
   "source": [
    "import laspy\n",
    "import numpy as np\n",
    "\n",
    "def thin_laz_file(input_file, output_file, keep_fraction=0.25):\n",
    "    # Read LAZ file\n",
    "    with laspy.open(input_file) as file:\n",
    "        las = file.read()\n",
    "\n",
    "    # Get total number of points\n",
    "    total_points = las.header.point_count\n",
    "\n",
    "    # Randomly select points to keep\n",
    "    chosen_indices = np.random.choice(total_points, int(total_points * keep_fraction), replace=False)\n",
    "\n",
    "    # Ensure boundary points are included\n",
    "    boundary_indices = get_boundary_indices(las)\n",
    "    chosen_indices = np.unique(np.concatenate((chosen_indices, boundary_indices)))\n",
    "\n",
    "    # Keep the points\n",
    "    thinned_las = las[chosen_indices]\n",
    "\n",
    "    # Write to new file\n",
    "    with laspy.open(output_file, mode=\"w\", header=las.header) as outfile:\n",
    "        outfile.write_points(thinned_las.points)\n",
    "\n",
    "    print(f\"Thinning complete. Saved to {output_file}\")\n",
    "\n",
    "def get_boundary_indices(las):\n",
    "    xmin, xmax, ymin, ymax = las.header.min[0], las.header.max[0], las.header.min[1], las.header.max[1]\n",
    "\n",
    "    # Find indices of points that are on the boundary\n",
    "    boundary_indices = np.where(\n",
    "        (las.x == xmin) | (las.x == xmax) | (las.y == ymin) | (las.y == ymax)\n",
    "    )[0]\n",
    "\n",
    "    return boundary_indices\n",
    "\n",
    "    \"\"\"\n",
    "input_laz_path = \"tile_4_600.laz\"  \n",
    "output_laz_path = \"600_thinned_01.laz\"  \n",
    "\n",
    "thin_laz_file(input_laz_path, output_laz_path)\n",
    "    \"\"\""
   ]
  },
  {
   "cell_type": "markdown",
   "id": "66c129aa",
   "metadata": {},
   "source": [
    "# Output files\n",
    "\n",
    "1. 600_thinned_025.laz  : 600x600m 0.25 thining\n",
    "2. tile_4_500_filtered.laz  : 500x500m outlier removing and without thining\n",
    "3. 600_thinned_025_filtered.laz : 600x600m 0.25 thining+outlier removing"
   ]
  },
  {
   "cell_type": "code",
   "execution_count": null,
   "id": "54ba8c7c",
   "metadata": {},
   "outputs": [],
   "source": []
  },
  {
   "cell_type": "code",
   "execution_count": null,
   "id": "4b9017d2",
   "metadata": {},
   "outputs": [],
   "source": []
  },
  {
   "cell_type": "markdown",
   "id": "966f3b8b",
   "metadata": {},
   "source": [
    "## Just the test. Ignore it\n"
   ]
  },
  {
   "cell_type": "code",
   "execution_count": null,
   "id": "7358f7ce",
   "metadata": {},
   "outputs": [],
   "source": []
  },
  {
   "cell_type": "code",
   "execution_count": 30,
   "id": "d12c05df",
   "metadata": {},
   "outputs": [],
   "source": [
    "import laspy\n",
    "\n",
    "def read_laz_properties(file_path):\n",
    "\n",
    "    laz_file = laspy.read(file_path)\n",
    "\n",
    "    # Get the required properties\n",
    "    properties = {\n",
    "        \"x\":laz_file.x,\n",
    "        \"y\":laz_file.y,\n",
    "        \"z\":laz_file.z,\n",
    "        \"colors\": laz_file.color if hasattr(laz_file, 'color') else 'No color data',\n",
    "        \"intensity\": laz_file.intensity,\n",
    "        \"return_number\": laz_file.return_number,\n",
    "        \"number_of_returns\": laz_file.number_of_returns,\n",
    "        \"scan_direction_flag\": laz_file.scan_direction_flag,\n",
    "        \"edge_of_flight_line\": laz_file.edge_of_flight_line,\n",
    "        \"classification\": laz_file.classification,\n",
    "       # \"scan_angle_rank\": laz_file.scan_angle_rank,\n",
    "        \"user_data\": laz_file.user_data,\n",
    "        \"point_source_id\": laz_file.point_source_id,\n",
    "        \"gps_time\": laz_file.gps_time,\n",
    "        \"amplitude\": laz_file.amplitude if hasattr(laz_file, 'amplitude') else 'No amplitude data',\n",
    "        \"deviation\": laz_file.deviation if hasattr(laz_file, 'deviation') else 'No deviation data'\n",
    "    }\n",
    "\n",
    "    return properties\n",
    "\n",
    "\n"
   ]
  },
  {
   "cell_type": "code",
   "execution_count": 32,
   "id": "eaf12ca2",
   "metadata": {},
   "outputs": [
    {
     "data": {
      "text/plain": [
       "{'x': <ScaledArrayView([188684.583 188728.947 188588.742 ... 188427.602 188467.597 188660.982])>,\n",
       " 'y': <ScaledArrayView([312241.676 312121.377 312322.708 ... 312149.996 312037.754 312094.263])>,\n",
       " 'z': <ScaledArrayView([118.058 112.656 120.47  ... 130.939 131.184 113.124])>,\n",
       " 'colors': 'No color data',\n",
       " 'intensity': array([1290, 1259, 1258, ..., 1394,  707, 1299], dtype=uint16),\n",
       " 'return_number': <SubFieldView([1 1 1 ... 1 1 1])>,\n",
       " 'number_of_returns': <SubFieldView([1 1 1 ... 1 2 1])>,\n",
       " 'scan_direction_flag': <SubFieldView([0 1 0 ... 0 0 0])>,\n",
       " 'edge_of_flight_line': <SubFieldView([0 0 0 ... 0 0 0])>,\n",
       " 'classification': array([6, 2, 2, ..., 2, 1, 2], dtype=uint8),\n",
       " 'user_data': array([6, 7, 6, ..., 6, 6, 6], dtype=uint8),\n",
       " 'point_source_id': array([152, 152, 152, ..., 152, 152, 152], dtype=uint16),\n",
       " 'gps_time': array([2.97679757e+08, 2.97679757e+08, 2.97679758e+08, ...,\n",
       "        2.97679762e+08, 2.97679762e+08, 2.97679759e+08]),\n",
       " 'amplitude': 'No amplitude data',\n",
       " 'deviation': 'No deviation data'}"
      ]
     },
     "execution_count": 32,
     "metadata": {},
     "output_type": "execute_result"
    }
   ],
   "source": [
    "file_path = \"600_thinned_025.laz\"  # crop + thining one\n",
    "properties = read_laz_properties(file_path)\n",
    "properties"
   ]
  },
  {
   "cell_type": "code",
   "execution_count": 33,
   "id": "345e3087",
   "metadata": {},
   "outputs": [
    {
     "data": {
      "text/plain": [
       "{'x': <ScaledArrayView([188684.583 188728.947 188588.742 ... 188427.602 188467.597 188660.982])>,\n",
       " 'y': <ScaledArrayView([312241.676 312121.377 312322.708 ... 312149.996 312037.754 312094.263])>,\n",
       " 'z': <ScaledArrayView([118.058 112.656 120.47  ... 130.939 131.184 113.124])>,\n",
       " 'colors': 'No color data',\n",
       " 'intensity': array([1290, 1259, 1258, ..., 1394,  707, 1299], dtype=uint16),\n",
       " 'return_number': <SubFieldView([1 1 1 ... 1 1 1])>,\n",
       " 'number_of_returns': <SubFieldView([1 1 1 ... 1 2 1])>,\n",
       " 'scan_direction_flag': <SubFieldView([0 1 0 ... 0 0 0])>,\n",
       " 'edge_of_flight_line': <SubFieldView([0 0 0 ... 0 0 0])>,\n",
       " 'classification': array([6, 2, 2, ..., 2, 1, 2], dtype=uint8),\n",
       " 'user_data': array([6, 7, 6, ..., 6, 6, 6], dtype=uint8),\n",
       " 'point_source_id': array([152, 152, 152, ..., 152, 152, 152], dtype=uint16),\n",
       " 'gps_time': array([2.97679757e+08, 2.97679757e+08, 2.97679758e+08, ...,\n",
       "        2.97679762e+08, 2.97679762e+08, 2.97679759e+08]),\n",
       " 'amplitude': 'No amplitude data',\n",
       " 'deviation': 'No deviation data'}"
      ]
     },
     "execution_count": 33,
     "metadata": {},
     "output_type": "execute_result"
    }
   ],
   "source": [
    "file_path = \"600_thinned_025_filtered.laz\" # crop + thining + outlier\n",
    "properties = read_laz_properties(file_path)\n",
    "properties"
   ]
  },
  {
   "cell_type": "code",
   "execution_count": null,
   "id": "30a7de2e",
   "metadata": {},
   "outputs": [],
   "source": []
  }
 ],
 "metadata": {
  "kernelspec": {
   "display_name": "Python 3 (ipykernel)",
   "language": "python",
   "name": "python3"
  },
  "language_info": {
   "codemirror_mode": {
    "name": "ipython",
    "version": 3
   },
   "file_extension": ".py",
   "mimetype": "text/x-python",
   "name": "python",
   "nbconvert_exporter": "python",
   "pygments_lexer": "ipython3",
   "version": "3.11.5"
  }
 },
 "nbformat": 4,
 "nbformat_minor": 5
}
