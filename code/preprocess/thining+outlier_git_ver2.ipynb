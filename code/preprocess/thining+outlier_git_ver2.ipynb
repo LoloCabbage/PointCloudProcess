{
 "cells": [
  {
   "cell_type": "markdown",
   "id": "a21ec6f8",
   "metadata": {},
   "source": [
    "02/Jan/2024\n",
    "\n",
    "# thining + outlier removing\n",
    "\n",
    "## Thinning \n",
    "\n",
    "I use laspy.\n",
    "1. Use the first method in the book, random. The reason for setting 0.1 is because I originally set it to 0.2, and then step 3 ran a little long...so I changed it to 0.1. Setting 0.1 means to keep one tenth of the points.\n",
    "\n",
    "\n",
    "2. startinpy also has thining, but I was not very successful after a while. You can also give it a try.\n",
    "\n",
    "3. I have checked it with XiaoLuo on Cloud Compare, it looks OK. (14:00 02/Jan/2024)\n",
    "\n",
    "## Outlier removing\n",
    "\n",
    "Outlier I use scipy.\n",
    "\n",
    "Originally I used sklearn, but the teaching assistant said it was not suitable (there are public questions on discord)\n",
    "\n",
    "1. Use the fourth method in the book - knn distance.\n",
    "2. Set the parameter to 3 and use the median. The reason is...I feel good\n",
    "3. Corrected the problem why the cloudcompare is so strange when checking with Xiao Luo at 14:00 02/Jan/2024...because when I process it, I convert it to np.array and write it back to the laz file, which will lose some information. Such as color, Deviation Reflectance Amplitude PointSourceld UserData ScanAngleRank EdgeOf FlightLine ScanDirecitonFlag NumberOfReturns GpsTime Classification and so on. The program code has been modified to retain the message. I threw it into Cloud Compare myself and there should be no problem.\n"
   ]
  },
  {
   "cell_type": "code",
   "execution_count": 18,
   "id": "8cc96e15",
   "metadata": {},
   "outputs": [
    {
     "name": "stdout",
     "output_type": "stream",
     "text": [
      "Thinning complete. Saved to thinned_outpu_01.laz\n"
     ]
    }
   ],
   "source": [
    "# Thining\n",
    "\n",
    "import laspy\n",
    "import numpy as np\n",
    "\n",
    "def thin_laz_file(input_file, output_file, keep_fraction=0.1): # NOTICE HERE!! I use 0.1 \n",
    "    # read LAZ file\n",
    "    with laspy.open(input_file) as file:\n",
    "        las = file.read()\n",
    "\n",
    "    # get how many numbers\n",
    "    total_points = las.header.point_count\n",
    "\n",
    "    # Randomly select points to keep \n",
    "    # 11.1 thinning method 1 random\n",
    "    chosen_indices = np.random.choice(total_points, int(total_points * keep_fraction), replace=False)\n",
    "\n",
    "    # keep the points\n",
    "    thinned_las = las[chosen_indices]\n",
    "\n",
    "    # write into new file\n",
    "    with laspy.open(output_file, mode=\"w\", header=las.header) as outfile:\n",
    "        outfile.write_points(thinned_las.points)\n",
    "\n",
    "    print(f\"Thinning complete. Saved to {output_file}\")\n",
    "\n",
    "# how to use the function\n",
    "input_laz_path = \"output_tile_4.laz\"  # your file's path, this is the one which is cropped\n",
    "output_laz_path = \"thinned_outpu_01.laz\"  # name of the output file\n",
    "\n",
    "thin_laz_file(input_laz_path, output_laz_path)"
   ]
  },
  {
   "cell_type": "code",
   "execution_count": null,
   "id": "70887c1b",
   "metadata": {},
   "outputs": [],
   "source": []
  },
  {
   "cell_type": "code",
   "execution_count": 19,
   "id": "5836da59",
   "metadata": {},
   "outputs": [
    {
     "name": "stdout",
     "output_type": "stream",
     "text": [
      "Filtered LAS file saved as: thinned_outpu_01_filtered.laz\n"
     ]
    }
   ],
   "source": [
    "import laspy\n",
    "import numpy as np\n",
    "from scipy.spatial import KDTree\n",
    "\n",
    "def remove_outliers_laz(file_path, k=3):\n",
    "    # read laz \n",
    "    las = laspy.read(file_path)\n",
    "\n",
    "    points = np.vstack((las.x, las.y, las.z)).transpose()\n",
    "\n",
    "    # create KDTree\n",
    "    tree = KDTree(points)\n",
    "\n",
    "    # Calculate the k nearest neighbor distances for each point\n",
    "    distances, _ = tree.query(points, k=k+1)  # k+1 Because the nearest point is itself\n",
    "    median_distances = np.median(distances[:, 1:], axis=1)  # Calculate median distance\n",
    "\n",
    "    # Determine threshold for outliers\n",
    "    threshold = np.mean(median_distances) + 2 * np.std(median_distances)  # 1.1796426539499234 \n",
    " \n",
    "    # Filter out outliers. Values greater than 1.1796426539499234 will be deleted.\n",
    "    mask = median_distances < threshold\n",
    "\n",
    "    # Create filtered LAS file to save \n",
    "    filtered_las = laspy.create(point_format=las.header.point_format, file_version=las.header.version)\n",
    "\n",
    "    # Copy all the attributes in the original las, just the long list above\n",
    "    for name in las.point_format.dimension_names:\n",
    "        if name in las.point_format.dimension_names:\n",
    "            data = getattr(las, name)\n",
    "            setattr(filtered_las, name, data[mask])\n",
    "\n",
    "    # Preserve scale factors and offsets\n",
    "    # If you don’t do this step, its xyz will run away.\n",
    "    filtered_las.header.scale = las.header.scale\n",
    "    filtered_las.header.offset = las.header.offset\n",
    "\n",
    "    # Save the processed file\n",
    "    output_path = file_path.replace('.laz', '_filtered.laz')\n",
    "    filtered_las.write(output_path)\n",
    "    print(f\"Filtered LAS file saved as: {output_path}\")\n",
    "\n",
    "# how to use\n",
    "remove_outliers_laz(\"thinned_outpu_01.laz\", k=3)"
   ]
  },
  {
   "cell_type": "code",
   "execution_count": null,
   "id": "fadacc65",
   "metadata": {},
   "outputs": [],
   "source": []
  },
  {
   "cell_type": "code",
   "execution_count": null,
   "id": "634e2b37",
   "metadata": {},
   "outputs": [],
   "source": []
  },
  {
   "cell_type": "markdown",
   "id": "966f3b8b",
   "metadata": {},
   "source": [
    "## Just the test. Ignore it\n"
   ]
  },
  {
   "cell_type": "code",
   "execution_count": null,
   "id": "7358f7ce",
   "metadata": {},
   "outputs": [],
   "source": []
  },
  {
   "cell_type": "code",
   "execution_count": 20,
   "id": "d12c05df",
   "metadata": {},
   "outputs": [],
   "source": [
    "import laspy\n",
    "\n",
    "def read_laz_properties(file_path):\n",
    "    # 讀取LAZ文件\n",
    "    laz_file = laspy.read(file_path)\n",
    "\n",
    "    # 獲取所需的屬性\n",
    "    properties = {\n",
    "        \"x\":laz_file.x,\n",
    "        \"y\":laz_file.y,\n",
    "        \"z\":laz_file.z,\n",
    "        \"colors\": laz_file.color if hasattr(laz_file, 'color') else 'No color data',\n",
    "        \"intensity\": laz_file.intensity,\n",
    "        \"return_number\": laz_file.return_number,\n",
    "        \"number_of_returns\": laz_file.number_of_returns,\n",
    "        \"scan_direction_flag\": laz_file.scan_direction_flag,\n",
    "        \"edge_of_flight_line\": laz_file.edge_of_flight_line,\n",
    "        \"classification\": laz_file.classification,\n",
    "       # \"scan_angle_rank\": laz_file.scan_angle_rank,\n",
    "        \"user_data\": laz_file.user_data,\n",
    "        \"point_source_id\": laz_file.point_source_id,\n",
    "        \"gps_time\": laz_file.gps_time,\n",
    "        \"amplitude\": laz_file.amplitude if hasattr(laz_file, 'amplitude') else 'No amplitude data',\n",
    "        \"deviation\": laz_file.deviation if hasattr(laz_file, 'deviation') else 'No deviation data'\n",
    "    }\n",
    "\n",
    "    return properties\n",
    "\n",
    "\n"
   ]
  },
  {
   "cell_type": "code",
   "execution_count": 21,
   "id": "1c6c663b",
   "metadata": {},
   "outputs": [
    {
     "data": {
      "text/plain": [
       "{'x': <ScaledArrayView([188979.835 188979.943 188979.487 ... 188775.508 188775.607 188775.256])>,\n",
       " 'y': <ScaledArrayView([312229.967 312229.644 312229.924 ... 311730.504 311730.01  311730.325])>,\n",
       " 'z': <ScaledArrayView([116.523 116.518 116.523 ... 140.044 140.159 140.071])>,\n",
       " 'colors': 'No color data',\n",
       " 'intensity': array([1201, 1222, 1180, ...,  874,  899,  942], dtype=uint16),\n",
       " 'return_number': <SubFieldView([1 1 1 ... 1 1 1])>,\n",
       " 'number_of_returns': <SubFieldView([1 1 1 ... 1 1 1])>,\n",
       " 'scan_direction_flag': <SubFieldView([0 0 0 ... 1 1 1])>,\n",
       " 'edge_of_flight_line': <SubFieldView([0 0 0 ... 1 0 1])>,\n",
       " 'classification': array([2, 2, 2, ..., 2, 2, 2], dtype=uint8),\n",
       " 'user_data': array([6, 6, 6, ..., 7, 7, 7], dtype=uint8),\n",
       " 'point_source_id': array([152, 152, 152, ..., 153, 153, 153], dtype=uint16),\n",
       " 'gps_time': array([2.97679752e+08, 2.97679752e+08, 2.97679752e+08, ...,\n",
       "        2.97681131e+08, 2.97681131e+08, 2.97681131e+08]),\n",
       " 'amplitude': 'No amplitude data',\n",
       " 'deviation': 'No deviation data'}"
      ]
     },
     "execution_count": 21,
     "metadata": {},
     "output_type": "execute_result"
    }
   ],
   "source": [
    "file_path = 'output_tile_4.laz' #cropped one\n",
    "properties = read_laz_properties(file_path)\n",
    "properties"
   ]
  },
  {
   "cell_type": "code",
   "execution_count": 22,
   "id": "eaf12ca2",
   "metadata": {},
   "outputs": [
    {
     "data": {
      "text/plain": [
       "{'x': <ScaledArrayView([188765.352 188564.533 188844.351 ... 188872.04  188625.586 188966.667])>,\n",
       " 'y': <ScaledArrayView([311804.93  312170.939 312133.883 ... 311916.305 312218.074 312096.302])>,\n",
       " 'z': <ScaledArrayView([129.063 119.954 115.982 ... 132.095 117.766 129.286])>,\n",
       " 'colors': 'No color data',\n",
       " 'intensity': array([1397, 1326,  436, ..., 1419, 1176,  328], dtype=uint16),\n",
       " 'return_number': <SubFieldView([1 1 2 ... 1 2 1])>,\n",
       " 'number_of_returns': <SubFieldView([1 1 3 ... 1 2 3])>,\n",
       " 'scan_direction_flag': <SubFieldView([1 1 0 ... 0 1 1])>,\n",
       " 'edge_of_flight_line': <SubFieldView([0 0 0 ... 0 0 0])>,\n",
       " 'classification': array([2, 2, 1, ..., 2, 2, 1], dtype=uint8),\n",
       " 'user_data': array([7, 7, 6, ..., 6, 7, 7], dtype=uint8),\n",
       " 'point_source_id': array([152, 152, 152, ..., 152, 152, 152], dtype=uint16),\n",
       " 'gps_time': array([2.97679761e+08, 2.97679759e+08, 2.97679755e+08, ...,\n",
       "        2.97679756e+08, 2.97679757e+08, 2.97679755e+08]),\n",
       " 'amplitude': 'No amplitude data',\n",
       " 'deviation': 'No deviation data'}"
      ]
     },
     "execution_count": 22,
     "metadata": {},
     "output_type": "execute_result"
    }
   ],
   "source": [
    "file_path = 'thinned_outpu_01.laz' # crop + thining one\n",
    "properties = read_laz_properties(file_path)\n",
    "properties"
   ]
  },
  {
   "cell_type": "code",
   "execution_count": 23,
   "id": "345e3087",
   "metadata": {},
   "outputs": [
    {
     "data": {
      "text/plain": [
       "{'x': <ScaledArrayView([188765.352 188564.533 188931.162 ... 188872.04  188625.586 188966.667])>,\n",
       " 'y': <ScaledArrayView([311804.93  312170.939 311878.378 ... 311916.305 312218.074 312096.302])>,\n",
       " 'z': <ScaledArrayView([129.063 119.954 142.434 ... 132.095 117.766 129.286])>,\n",
       " 'colors': 'No color data',\n",
       " 'intensity': array([1397, 1326,  306, ..., 1419, 1176,  328], dtype=uint16),\n",
       " 'return_number': <SubFieldView([1 1 1 ... 1 2 1])>,\n",
       " 'number_of_returns': <SubFieldView([1 1 3 ... 1 2 3])>,\n",
       " 'scan_direction_flag': <SubFieldView([1 1 0 ... 0 1 1])>,\n",
       " 'edge_of_flight_line': <SubFieldView([0 0 0 ... 0 0 0])>,\n",
       " 'classification': array([2, 2, 1, ..., 2, 2, 1], dtype=uint8),\n",
       " 'user_data': array([7, 7, 6, ..., 6, 7, 7], dtype=uint8),\n",
       " 'point_source_id': array([152, 152, 152, ..., 152, 152, 152], dtype=uint16),\n",
       " 'gps_time': array([2.97679761e+08, 2.97679759e+08, 2.97679755e+08, ...,\n",
       "        2.97679756e+08, 2.97679757e+08, 2.97679755e+08]),\n",
       " 'amplitude': 'No amplitude data',\n",
       " 'deviation': 'No deviation data'}"
      ]
     },
     "execution_count": 23,
     "metadata": {},
     "output_type": "execute_result"
    }
   ],
   "source": [
    "file_path = 'thinned_outpu_01_filtered.laz' # crop + thining + outlier\n",
    "properties = read_laz_properties(file_path)\n",
    "properties"
   ]
  },
  {
   "cell_type": "code",
   "execution_count": null,
   "id": "30a7de2e",
   "metadata": {},
   "outputs": [],
   "source": []
  }
 ],
 "metadata": {
  "kernelspec": {
   "display_name": "Python 3 (ipykernel)",
   "language": "python",
   "name": "python3"
  },
  "language_info": {
   "codemirror_mode": {
    "name": "ipython",
    "version": 3
   },
   "file_extension": ".py",
   "mimetype": "text/x-python",
   "name": "python",
   "nbconvert_exporter": "python",
   "pygments_lexer": "ipython3",
   "version": "3.11.5"
  }
 },
 "nbformat": 4,
 "nbformat_minor": 5
}
