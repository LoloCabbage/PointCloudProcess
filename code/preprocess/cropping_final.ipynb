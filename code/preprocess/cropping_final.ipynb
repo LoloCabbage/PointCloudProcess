{
 "cells": [
  {
   "cell_type": "markdown",
   "id": "b5b0c6be",
   "metadata": {},
   "source": [
    "28/Dec/2023\n",
    "\n",
    "# Cropping\n",
    "\n",
    "Our original 1 x 1.25 km (GeoTiles said) was cut to 500m x 500m.\n",
    "\n",
    "But in fact, it is not 1 x 1.25 km, maybe because of the projection.\n",
    "\n",
    "## Area boundary\n",
    "\n",
    "---\n",
    "          x    y\n",
    "min 187980.0 311230.0\n",
    "\n",
    "max 189019.999 312519.999\n",
    "\n",
    "-----\n"
   ]
  },
  {
   "cell_type": "markdown",
   "id": "0bec3c22",
   "metadata": {},
   "source": [
    "# Cropping 600×600m\n"
   ]
  },
  {
   "cell_type": "code",
   "execution_count": 5,
   "id": "77be842e",
   "metadata": {},
   "outputs": [
    {
     "name": "stdout",
     "output_type": "stream",
     "text": [
      "tile_4_600.laz has been cropped and saved.\n"
     ]
    }
   ],
   "source": [
    "import laspy\n",
    "\n",
    "# set the region\n",
    "min_x, max_x, min_y, max_y = 188415, 189015, 311750, 312350\n",
    "\n",
    "input_file = \"69DN2_04.LAZ\" \n",
    "las = laspy.read(input_file)\n",
    "\n",
    "# Filter points within a specified range\n",
    "mask = (las.x >= min_x) & (las.x <= max_x) & (las.y >= min_y) & (las.y <= max_y)\n",
    "filtered_las = las[mask]\n",
    "\n",
    "\n",
    "output_file = \"tile_4_600.laz\"  # name of the output files\n",
    "filtered_las.write(output_file)\n",
    "\n",
    "print( output_file, \"has been cropped and saved.\")"
   ]
  },
  {
   "cell_type": "markdown",
   "id": "f749ac8f",
   "metadata": {},
   "source": [
    "# Cropping 500×500m"
   ]
  },
  {
   "cell_type": "code",
   "execution_count": 6,
   "id": "53a62d87",
   "metadata": {},
   "outputs": [
    {
     "name": "stdout",
     "output_type": "stream",
     "text": [
      "tile_4_500.laz has been cropped and saved.\n"
     ]
    }
   ],
   "source": [
    "import laspy\n",
    "\n",
    "# set the region\n",
    "min_x, max_x, min_y, max_y = 188415+50, 189015-50, 311750+50, 312350-50\n",
    "\n",
    "input_file = \"69DN2_04.LAZ\" \n",
    "las = laspy.read(input_file)\n",
    "\n",
    "# Filter points within a specified range\n",
    "mask = (las.x >= min_x) & (las.x <= max_x) & (las.y >= min_y) & (las.y <= max_y)\n",
    "filtered_las = las[mask]\n",
    "\n",
    "\n",
    "output_file = \"tile_4_500.laz\"  # name of the output files\n",
    "filtered_las.write(output_file)\n",
    "\n",
    "print( output_file, \"has been cropped and saved.\")"
   ]
  },
  {
   "cell_type": "markdown",
   "id": "a7c93237",
   "metadata": {},
   "source": [
    "# Check the cropping result"
   ]
  },
  {
   "cell_type": "code",
   "execution_count": 7,
   "id": "e2ebeece",
   "metadata": {},
   "outputs": [
    {
     "name": "stdout",
     "output_type": "stream",
     "text": [
      "69DN2_04.LAZ :  (187980.0, 189019.999, 311230.0, 312519.999)\n",
      "tile_4_600.laz :  (188415.0, 189015.0, 311750.0, 312350.0)\n",
      "tile_4_500.laz :  (188465.0, 188965.0, 311800.0, 312300.0)\n"
     ]
    }
   ],
   "source": [
    "def read_las(file_path):\n",
    "    \"\"\"\n",
    "    read files\n",
    "    \"\"\"\n",
    "    return laspy.read(file_path)\n",
    "\n",
    "def get_bounds(las):\n",
    "    \"\"\"\n",
    "    get bounds\n",
    "    \"\"\"\n",
    "    min_x, max_x = las.header.x_min, las.header.x_max\n",
    "    min_y, max_y = las.header.y_min, las.header.y_max\n",
    "    return min_x, max_x, min_y, max_y\n",
    "\n",
    "file_path = \"69DN2_04.LAZ\"\n",
    "las = read_las(file_path)\n",
    "print(\"69DN2_04.LAZ : \",get_bounds(las))\n",
    "file_path = \"tile_4_600.laz\"\n",
    "las = read_las(file_path)\n",
    "print(\"tile_4_600.laz : \",get_bounds(las))\n",
    "file_path = \"tile_4_500.laz\"\n",
    "las = read_las(file_path)\n",
    "print(\"tile_4_500.laz : \",get_bounds(las))"
   ]
  },
  {
   "cell_type": "markdown",
   "id": "cfe87156",
   "metadata": {},
   "source": [
    "# Result\n",
    "\n",
    "## tile_4_600.laz :  600x600m (the one with buffer)\n",
    "## tile_4_500.laz :  500x500m\n"
   ]
  },
  {
   "cell_type": "code",
   "execution_count": null,
   "id": "93cb3a1b",
   "metadata": {},
   "outputs": [],
   "source": []
  }
 ],
 "metadata": {
  "kernelspec": {
   "display_name": "Python 3 (ipykernel)",
   "language": "python",
   "name": "python3"
  },
  "language_info": {
   "codemirror_mode": {
    "name": "ipython",
    "version": 3
   },
   "file_extension": ".py",
   "mimetype": "text/x-python",
   "name": "python",
   "nbconvert_exporter": "python",
   "pygments_lexer": "ipython3",
   "version": "3.11.5"
  }
 },
 "nbformat": 4,
 "nbformat_minor": 5
}
